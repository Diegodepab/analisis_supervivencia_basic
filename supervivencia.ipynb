{
 "cells": [
  {
   "cell_type": "code",
   "execution_count": null,
   "metadata": {},
   "outputs": [],
   "source": [
    "import pandas as pd\n",
    "import numpy as np\n",
    "import matplotlib.pyplot as plt\n",
    "from lifelines import KaplanMeierFitter # pip install lifelines\n",
    "from lifelines import NelsonAalenFitter"
   ]
  },
  {
   "cell_type": "markdown",
   "metadata": {},
   "source": [
    "Lectura de datos"
   ]
  },
  {
   "cell_type": "code",
   "execution_count": 17,
   "metadata": {},
   "outputs": [],
   "source": [
    "datos = pd.read_csv(\"supervivencia.csv\")\n",
    "datos.loc[datos.status == 1, 'estado'] = 0\n",
    "datos.loc[datos.status == 2, 'estado'] = 1"
   ]
  },
  {
   "cell_type": "markdown",
   "metadata": {},
   "source": [
    "Ajuste del modelo"
   ]
  },
  {
   "cell_type": "code",
   "execution_count": 23,
   "metadata": {},
   "outputs": [],
   "source": [
    "kmf = KaplanMeierFitter()\n",
    "kmf.fit(durations =  datos[\"time\"], event_observed = datos[\"estado\"], label=\"Pacientes\")\n",
    "events_table = kmf.event_table"
   ]
  },
  {
   "cell_type": "markdown",
   "metadata": {},
   "source": [
    "Curva de supervivencia"
   ]
  },
  {
   "cell_type": "code",
   "execution_count": null,
   "metadata": {},
   "outputs": [],
   "source": [
    "kmf.plot()\n",
    "plt.title(\"Supervivencia global\")\n",
    "plt.xlabel(\"Tiempo en días\")\n",
    "plt.ylabel(\"Supervivencia global\")"
   ]
  },
  {
   "cell_type": "markdown",
   "metadata": {},
   "source": [
    "Función de riesgo"
   ]
  },
  {
   "cell_type": "code",
   "execution_count": null,
   "metadata": {},
   "outputs": [],
   "source": [
    "naf = NelsonAalenFitter()\n",
    "naf.fit(datos[\"time\"], event_observed=datos[\"estado\"])\n",
    "naf.plot_cumulative_hazard()\n",
    "plt.title(\"Riesgo acumulado\")\n",
    "plt.xlabel(\"Tiempo en días\")\n",
    "plt.ylabel(\"Riesgo\")\n",
    "plt.legend('', frameon=False)"
   ]
  },
  {
   "cell_type": "markdown",
   "metadata": {},
   "source": [
    "Comparación de la supervivencia"
   ]
  },
  {
   "cell_type": "code",
   "execution_count": null,
   "metadata": {},
   "outputs": [],
   "source": [
    "kmf_m = KaplanMeierFitter() \n",
    "kmf_f = KaplanMeierFitter()\n",
    "Hombres = datos.query(\"sex == 1\")\n",
    "Mujeres = datos.query(\"sex == 2\")\n",
    "kmf_m.fit(durations =  Hombres[\"time\"],event_observed = Hombres[\"estado\"] ,label=\"Hombres\")\n",
    "kmf_f.fit(durations =  Mujeres[\"time\"],event_observed = Mujeres[\"estado\"], label=\"Mujeres\")\n",
    "kmf_m.plot()\n",
    "kmf_f.plot()\n",
    "plt.title(\"Supervivencia por sexo\")\n",
    "plt.xlabel(\"Tiempo en días\")\n",
    "plt.ylabel(\"Probabilidad de Supervivencia\")"
   ]
  }
 ],
 "metadata": {
  "kernelspec": {
   "display_name": "Python 3",
   "language": "python",
   "name": "python3"
  },
  "language_info": {
   "codemirror_mode": {
    "name": "ipython",
    "version": 3
   },
   "file_extension": ".py",
   "mimetype": "text/x-python",
   "name": "python",
   "nbconvert_exporter": "python",
   "pygments_lexer": "ipython3",
   "version": "3.10.12"
  }
 },
 "nbformat": 4,
 "nbformat_minor": 2
}
